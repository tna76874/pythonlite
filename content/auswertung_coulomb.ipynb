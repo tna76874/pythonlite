{
  "metadata": {
    "language_info": {
      "codemirror_mode": {
        "name": "python",
        "version": 3
      },
      "file_extension": ".py",
      "mimetype": "text/x-python",
      "name": "python",
      "nbconvert_exporter": "python",
      "pygments_lexer": "ipython3",
      "version": "3.8"
    },
    "kernelspec": {
      "name": "python",
      "display_name": "Python (Pyodide)",
      "language": "python"
    }
  },
  "nbformat_minor": 4,
  "nbformat": 4,
  "cells": [
    {
      "cell_type": "code",
      "source": "%pip install -r modules/requirements_ph.txt\nfrom modules.ph import *",
      "metadata": {
        "trusted": true
      },
      "execution_count": null,
      "outputs": []
    },
    {
      "cell_type": "code",
      "source": "r_in_cm = [5, 6, 9, 12, 14, 18, 22]\nF_in_mN = [2.44, 1.9, 0.85, 0.35, 0.2, 0.14, 0.04]\n\ndata = {'r': r_in_cm, 'F': F_in_mN}\ndf_data = pd.DataFrame(data)",
      "metadata": {
        "trusted": true
      },
      "execution_count": null,
      "outputs": []
    },
    {
      "cell_type": "code",
      "source": "def model(p, x):\n    a,b,c = p\n    return a*1/(x-b)**2+c\nstartwerte=[120,0,0]",
      "metadata": {
        "trusted": true
      },
      "execution_count": null,
      "outputs": []
    },
    {
      "cell_type": "code",
      "source": "x_key = 'r'\ny_key = 'F'\n\nfig,ax = plt.subplots(figsize=(10,5))\ndf_data.plot(ax=ax,x=x_key,y=y_key, xlabel=f'Abstand r in cm', ylabel=f'Kraft F in mN',style='.')\n\nX = df_data[x_key]\nY = df_data[y_key]\nup , p, yfit, out = uODR(model,startwerte,X,Y,sy=10)\nX_fit = np.linspace(X.values[0],X.values[-1],100)\nY_fit = model(p, X_fit)\nax.plot(X_fit,Y_fit)\n#fig.savefig('plot.jpg',dpi=600)",
      "metadata": {
        "trusted": true
      },
      "execution_count": null,
      "outputs": []
    },
    {
      "cell_type": "code",
      "source": "results = {\n            'a' : up[0] *ureg('N*cm**2'),\n            'b' : up[1] *ureg('cm'),\n            'c' : up[2] *ureg('N'),\n          }\nfor idx,el in results.items():\n    print(f\"{idx}={el}\")",
      "metadata": {
        "trusted": true
      },
      "execution_count": null,
      "outputs": []
    },
    {
      "cell_type": "code",
      "source": "",
      "metadata": {},
      "execution_count": null,
      "outputs": []
    }
  ]
}